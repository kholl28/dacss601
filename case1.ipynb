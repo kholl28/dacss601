{
  "cells": [
    {
      "cell_type": "markdown",
      "metadata": {
        "id": "3QywaPQo-_GU"
      },
      "source": [
        "<center><img src=\"https://github.com/DACSS-CSSmeths/guidelines/blob/main/pics/small_logo_ccs_meths.jpg?raw=true\" width=\"700\"></center>\n"
      ]
    },
    {
      "cell_type": "markdown",
      "metadata": {
        "id": "R17aePUZ-_GW"
      },
      "source": [
        "# PRE HOMEWORK"
      ]
    },
    {
      "cell_type": "markdown",
      "metadata": {
        "id": "QC-bdAaT-_GW"
      },
      "source": [
        "# Case 1: Elites in Peru\n",
        "\n",
        "<a target=\"_blank\" href=\"https://colab.research.google.com/github/DACSS-CSSmeths/Networks_intro/blob/main/case1.ipynb\">\n",
        "  <img src=\"https://colab.research.google.com/assets/colab-badge.svg\" alt=\"Open In Colab\"/>\n",
        "</a>"
      ]
    },
    {
      "cell_type": "markdown",
      "metadata": {
        "id": "Z0SdnKUy-_GW"
      },
      "source": [
        "The network we are going to build is based on the relationships studied in this [paper](https://ideas.repec.org/a/eee/quaeco/v48y2008i2p263-273.html):\n",
        "\n",
        "<img src=\"https://github.com/DACSS-CSSmeths/Networks_intro/blob/main/pics/paper.png?raw=true\" width=\"500\">\n"
      ]
    },
    {
      "cell_type": "markdown",
      "metadata": {
        "id": "wPfh4aYg-_GW"
      },
      "source": [
        "In that paper, Professor Figueroa shows this table, where 1 represents that both nodes (families) appear together at least once sitting in the same top company board. This is a good example of a _symmetric_ relationship. Notice the last column is an attribute:"
      ]
    },
    {
      "cell_type": "markdown",
      "metadata": {
        "id": "uDHcU4mr-_GW"
      },
      "source": [
        "<img src=\"https://github.com/DACSS-CSSmeths/Networks_intro/blob/main/pics/dataRed.png?raw=true\" width=\"500\">"
      ]
    },
    {
      "cell_type": "markdown",
      "metadata": {
        "id": "Tkx0dQXm-_GX"
      },
      "source": [
        "This is an spreadsheet, with some modifications, representing the information above:"
      ]
    },
    {
      "cell_type": "code",
      "execution_count": 1,
      "metadata": {
        "id": "mn8x1FKK-_GX",
        "outputId": "aa1acee3-b428-41d5-9362-b358a2f9038c",
        "colab": {
          "base_uri": "https://localhost:8080/",
          "height": 372
        }
      },
      "outputs": [
        {
          "output_type": "execute_result",
          "data": {
            "text/plain": [
              "<IPython.lib.display.IFrame at 0x7ce7c15b6a90>"
            ],
            "text/html": [
              "\n",
              "        <iframe\n",
              "            width=\"1200\"\n",
              "            height=\"350\"\n",
              "            src=\"https://docs.google.com/spreadsheets/d/e/2PACX-1vSHI_TY6rh9zEctvxnk83Vg88m1uXAEPA9DYT__TYOt5eS2mFovlraOXkaUcV8YZhbU30u34NfaMpY1/pubhtml\"\n",
              "            frameborder=\"0\"\n",
              "            allowfullscreen\n",
              "            \n",
              "        ></iframe>\n",
              "        "
            ]
          },
          "metadata": {},
          "execution_count": 1
        }
      ],
      "source": [
        "from IPython.display import IFrame\n",
        "IFrame(\"https://docs.google.com/spreadsheets/d/e/2PACX-1vSHI_TY6rh9zEctvxnk83Vg88m1uXAEPA9DYT__TYOt5eS2mFovlraOXkaUcV8YZhbU30u34NfaMpY1/pubhtml\",1200,350)"
      ]
    },
    {
      "cell_type": "markdown",
      "metadata": {
        "id": "xgMZN7Ys-_GY"
      },
      "source": [
        "The modifications are:\n",
        "* I do not have \"1\"s in the diagonal (now Romero and Romero have no 1 in the intersection). This is the right way.\n",
        "* I put the the column with the attribute \"Multinacional\" in another sheet."
      ]
    },
    {
      "cell_type": "markdown",
      "metadata": {
        "id": "z7QRB5qF-_GY"
      },
      "source": [
        "We can download the **adjacency** from my Excel file from GitHub:"
      ]
    },
    {
      "cell_type": "code",
      "execution_count": 2,
      "metadata": {
        "id": "779COMf6-_GY"
      },
      "outputs": [],
      "source": [
        "# reading in\n",
        "import pandas as pd\n",
        "LinkToData=\"https://github.com/DACSS-CSSmeths/Networks_intro/raw/refs/heads/main/casesData/dataFigueroa.xlsx\"\n",
        "FigueData = pd.read_excel(LinkToData,sheet_name='Relationships',\n",
        "                          index_col=0) #notice!!!!!"
      ]
    },
    {
      "cell_type": "markdown",
      "metadata": {
        "id": "xsYaJF-w-_GY"
      },
      "source": [
        "We also have get the table with attributes:"
      ]
    },
    {
      "cell_type": "code",
      "execution_count": 3,
      "metadata": {
        "id": "KcpOEv_o-_GY",
        "outputId": "d9365f4c-6980-41ba-948a-c0072bfb7e58",
        "colab": {
          "base_uri": "https://localhost:8080/",
          "height": 1000
        }
      },
      "outputs": [
        {
          "output_type": "execute_result",
          "data": {
            "text/plain": [
              "                   node  Multinacional\n",
              "0                Romero              1\n",
              "1                 Graña              1\n",
              "2          Miro Quesada              1\n",
              "3               Moreyra              1\n",
              "4                  Fort              1\n",
              "5          De La Puente              1\n",
              "6                 Wiese              1\n",
              "7               Onrubia              1\n",
              "8               Brescia              1\n",
              "9              Nicolini              1\n",
              "10              Montero              1\n",
              "11               Picaso              1\n",
              "12               Bentin              1\n",
              "13            Benavides              1\n",
              "14           Bustamante              1\n",
              "15       Woodman Pollit              1\n",
              "16                Raffo              1\n",
              "17               Piazza              1\n",
              "18          Berckemeyer              0\n",
              "19         Llosa Barber              1\n",
              "20      Beoutis Ledesma              1\n",
              "21          Rizo Patron              1\n",
              "22              Montori              1\n",
              "23            Sotomayor              1\n",
              "24             Cilloniz              1\n",
              "25            Ferreyros              0\n",
              "26              Michell              0\n",
              "27              Wong Lu              1\n",
              "28      Batievsky Spack              1\n",
              "29       Matos Escalada              1\n",
              "30               Galsky              0\n",
              "31              Lucioni              0\n",
              "32  Rodriguez Rodríguez              1\n",
              "33               Custer              0\n",
              "34                Ikeda              0\n",
              "35              Cogorno              0\n",
              "36         Arias Davila              1"
            ],
            "text/html": [
              "\n",
              "  <div id=\"df-5d1acb75-0eb2-4347-8f0a-883a3702a995\" class=\"colab-df-container\">\n",
              "    <div>\n",
              "<style scoped>\n",
              "    .dataframe tbody tr th:only-of-type {\n",
              "        vertical-align: middle;\n",
              "    }\n",
              "\n",
              "    .dataframe tbody tr th {\n",
              "        vertical-align: top;\n",
              "    }\n",
              "\n",
              "    .dataframe thead th {\n",
              "        text-align: right;\n",
              "    }\n",
              "</style>\n",
              "<table border=\"1\" class=\"dataframe\">\n",
              "  <thead>\n",
              "    <tr style=\"text-align: right;\">\n",
              "      <th></th>\n",
              "      <th>node</th>\n",
              "      <th>Multinacional</th>\n",
              "    </tr>\n",
              "  </thead>\n",
              "  <tbody>\n",
              "    <tr>\n",
              "      <th>0</th>\n",
              "      <td>Romero</td>\n",
              "      <td>1</td>\n",
              "    </tr>\n",
              "    <tr>\n",
              "      <th>1</th>\n",
              "      <td>Graña</td>\n",
              "      <td>1</td>\n",
              "    </tr>\n",
              "    <tr>\n",
              "      <th>2</th>\n",
              "      <td>Miro Quesada</td>\n",
              "      <td>1</td>\n",
              "    </tr>\n",
              "    <tr>\n",
              "      <th>3</th>\n",
              "      <td>Moreyra</td>\n",
              "      <td>1</td>\n",
              "    </tr>\n",
              "    <tr>\n",
              "      <th>4</th>\n",
              "      <td>Fort</td>\n",
              "      <td>1</td>\n",
              "    </tr>\n",
              "    <tr>\n",
              "      <th>5</th>\n",
              "      <td>De La Puente</td>\n",
              "      <td>1</td>\n",
              "    </tr>\n",
              "    <tr>\n",
              "      <th>6</th>\n",
              "      <td>Wiese</td>\n",
              "      <td>1</td>\n",
              "    </tr>\n",
              "    <tr>\n",
              "      <th>7</th>\n",
              "      <td>Onrubia</td>\n",
              "      <td>1</td>\n",
              "    </tr>\n",
              "    <tr>\n",
              "      <th>8</th>\n",
              "      <td>Brescia</td>\n",
              "      <td>1</td>\n",
              "    </tr>\n",
              "    <tr>\n",
              "      <th>9</th>\n",
              "      <td>Nicolini</td>\n",
              "      <td>1</td>\n",
              "    </tr>\n",
              "    <tr>\n",
              "      <th>10</th>\n",
              "      <td>Montero</td>\n",
              "      <td>1</td>\n",
              "    </tr>\n",
              "    <tr>\n",
              "      <th>11</th>\n",
              "      <td>Picaso</td>\n",
              "      <td>1</td>\n",
              "    </tr>\n",
              "    <tr>\n",
              "      <th>12</th>\n",
              "      <td>Bentin</td>\n",
              "      <td>1</td>\n",
              "    </tr>\n",
              "    <tr>\n",
              "      <th>13</th>\n",
              "      <td>Benavides</td>\n",
              "      <td>1</td>\n",
              "    </tr>\n",
              "    <tr>\n",
              "      <th>14</th>\n",
              "      <td>Bustamante</td>\n",
              "      <td>1</td>\n",
              "    </tr>\n",
              "    <tr>\n",
              "      <th>15</th>\n",
              "      <td>Woodman Pollit</td>\n",
              "      <td>1</td>\n",
              "    </tr>\n",
              "    <tr>\n",
              "      <th>16</th>\n",
              "      <td>Raffo</td>\n",
              "      <td>1</td>\n",
              "    </tr>\n",
              "    <tr>\n",
              "      <th>17</th>\n",
              "      <td>Piazza</td>\n",
              "      <td>1</td>\n",
              "    </tr>\n",
              "    <tr>\n",
              "      <th>18</th>\n",
              "      <td>Berckemeyer</td>\n",
              "      <td>0</td>\n",
              "    </tr>\n",
              "    <tr>\n",
              "      <th>19</th>\n",
              "      <td>Llosa Barber</td>\n",
              "      <td>1</td>\n",
              "    </tr>\n",
              "    <tr>\n",
              "      <th>20</th>\n",
              "      <td>Beoutis Ledesma</td>\n",
              "      <td>1</td>\n",
              "    </tr>\n",
              "    <tr>\n",
              "      <th>21</th>\n",
              "      <td>Rizo Patron</td>\n",
              "      <td>1</td>\n",
              "    </tr>\n",
              "    <tr>\n",
              "      <th>22</th>\n",
              "      <td>Montori</td>\n",
              "      <td>1</td>\n",
              "    </tr>\n",
              "    <tr>\n",
              "      <th>23</th>\n",
              "      <td>Sotomayor</td>\n",
              "      <td>1</td>\n",
              "    </tr>\n",
              "    <tr>\n",
              "      <th>24</th>\n",
              "      <td>Cilloniz</td>\n",
              "      <td>1</td>\n",
              "    </tr>\n",
              "    <tr>\n",
              "      <th>25</th>\n",
              "      <td>Ferreyros</td>\n",
              "      <td>0</td>\n",
              "    </tr>\n",
              "    <tr>\n",
              "      <th>26</th>\n",
              "      <td>Michell</td>\n",
              "      <td>0</td>\n",
              "    </tr>\n",
              "    <tr>\n",
              "      <th>27</th>\n",
              "      <td>Wong Lu</td>\n",
              "      <td>1</td>\n",
              "    </tr>\n",
              "    <tr>\n",
              "      <th>28</th>\n",
              "      <td>Batievsky Spack</td>\n",
              "      <td>1</td>\n",
              "    </tr>\n",
              "    <tr>\n",
              "      <th>29</th>\n",
              "      <td>Matos Escalada</td>\n",
              "      <td>1</td>\n",
              "    </tr>\n",
              "    <tr>\n",
              "      <th>30</th>\n",
              "      <td>Galsky</td>\n",
              "      <td>0</td>\n",
              "    </tr>\n",
              "    <tr>\n",
              "      <th>31</th>\n",
              "      <td>Lucioni</td>\n",
              "      <td>0</td>\n",
              "    </tr>\n",
              "    <tr>\n",
              "      <th>32</th>\n",
              "      <td>Rodriguez Rodríguez</td>\n",
              "      <td>1</td>\n",
              "    </tr>\n",
              "    <tr>\n",
              "      <th>33</th>\n",
              "      <td>Custer</td>\n",
              "      <td>0</td>\n",
              "    </tr>\n",
              "    <tr>\n",
              "      <th>34</th>\n",
              "      <td>Ikeda</td>\n",
              "      <td>0</td>\n",
              "    </tr>\n",
              "    <tr>\n",
              "      <th>35</th>\n",
              "      <td>Cogorno</td>\n",
              "      <td>0</td>\n",
              "    </tr>\n",
              "    <tr>\n",
              "      <th>36</th>\n",
              "      <td>Arias Davila</td>\n",
              "      <td>1</td>\n",
              "    </tr>\n",
              "  </tbody>\n",
              "</table>\n",
              "</div>\n",
              "    <div class=\"colab-df-buttons\">\n",
              "\n",
              "  <div class=\"colab-df-container\">\n",
              "    <button class=\"colab-df-convert\" onclick=\"convertToInteractive('df-5d1acb75-0eb2-4347-8f0a-883a3702a995')\"\n",
              "            title=\"Convert this dataframe to an interactive table.\"\n",
              "            style=\"display:none;\">\n",
              "\n",
              "  <svg xmlns=\"http://www.w3.org/2000/svg\" height=\"24px\" viewBox=\"0 -960 960 960\">\n",
              "    <path d=\"M120-120v-720h720v720H120Zm60-500h600v-160H180v160Zm220 220h160v-160H400v160Zm0 220h160v-160H400v160ZM180-400h160v-160H180v160Zm440 0h160v-160H620v160ZM180-180h160v-160H180v160Zm440 0h160v-160H620v160Z\"/>\n",
              "  </svg>\n",
              "    </button>\n",
              "\n",
              "  <style>\n",
              "    .colab-df-container {\n",
              "      display:flex;\n",
              "      gap: 12px;\n",
              "    }\n",
              "\n",
              "    .colab-df-convert {\n",
              "      background-color: #E8F0FE;\n",
              "      border: none;\n",
              "      border-radius: 50%;\n",
              "      cursor: pointer;\n",
              "      display: none;\n",
              "      fill: #1967D2;\n",
              "      height: 32px;\n",
              "      padding: 0 0 0 0;\n",
              "      width: 32px;\n",
              "    }\n",
              "\n",
              "    .colab-df-convert:hover {\n",
              "      background-color: #E2EBFA;\n",
              "      box-shadow: 0px 1px 2px rgba(60, 64, 67, 0.3), 0px 1px 3px 1px rgba(60, 64, 67, 0.15);\n",
              "      fill: #174EA6;\n",
              "    }\n",
              "\n",
              "    .colab-df-buttons div {\n",
              "      margin-bottom: 4px;\n",
              "    }\n",
              "\n",
              "    [theme=dark] .colab-df-convert {\n",
              "      background-color: #3B4455;\n",
              "      fill: #D2E3FC;\n",
              "    }\n",
              "\n",
              "    [theme=dark] .colab-df-convert:hover {\n",
              "      background-color: #434B5C;\n",
              "      box-shadow: 0px 1px 3px 1px rgba(0, 0, 0, 0.15);\n",
              "      filter: drop-shadow(0px 1px 2px rgba(0, 0, 0, 0.3));\n",
              "      fill: #FFFFFF;\n",
              "    }\n",
              "  </style>\n",
              "\n",
              "    <script>\n",
              "      const buttonEl =\n",
              "        document.querySelector('#df-5d1acb75-0eb2-4347-8f0a-883a3702a995 button.colab-df-convert');\n",
              "      buttonEl.style.display =\n",
              "        google.colab.kernel.accessAllowed ? 'block' : 'none';\n",
              "\n",
              "      async function convertToInteractive(key) {\n",
              "        const element = document.querySelector('#df-5d1acb75-0eb2-4347-8f0a-883a3702a995');\n",
              "        const dataTable =\n",
              "          await google.colab.kernel.invokeFunction('convertToInteractive',\n",
              "                                                    [key], {});\n",
              "        if (!dataTable) return;\n",
              "\n",
              "        const docLinkHtml = 'Like what you see? Visit the ' +\n",
              "          '<a target=\"_blank\" href=https://colab.research.google.com/notebooks/data_table.ipynb>data table notebook</a>'\n",
              "          + ' to learn more about interactive tables.';\n",
              "        element.innerHTML = '';\n",
              "        dataTable['output_type'] = 'display_data';\n",
              "        await google.colab.output.renderOutput(dataTable, element);\n",
              "        const docLink = document.createElement('div');\n",
              "        docLink.innerHTML = docLinkHtml;\n",
              "        element.appendChild(docLink);\n",
              "      }\n",
              "    </script>\n",
              "  </div>\n",
              "\n",
              "\n",
              "<div id=\"df-640f7ef9-5fb4-4056-89fd-eda2feed3544\">\n",
              "  <button class=\"colab-df-quickchart\" onclick=\"quickchart('df-640f7ef9-5fb4-4056-89fd-eda2feed3544')\"\n",
              "            title=\"Suggest charts\"\n",
              "            style=\"display:none;\">\n",
              "\n",
              "<svg xmlns=\"http://www.w3.org/2000/svg\" height=\"24px\"viewBox=\"0 0 24 24\"\n",
              "     width=\"24px\">\n",
              "    <g>\n",
              "        <path d=\"M19 3H5c-1.1 0-2 .9-2 2v14c0 1.1.9 2 2 2h14c1.1 0 2-.9 2-2V5c0-1.1-.9-2-2-2zM9 17H7v-7h2v7zm4 0h-2V7h2v10zm4 0h-2v-4h2v4z\"/>\n",
              "    </g>\n",
              "</svg>\n",
              "  </button>\n",
              "\n",
              "<style>\n",
              "  .colab-df-quickchart {\n",
              "      --bg-color: #E8F0FE;\n",
              "      --fill-color: #1967D2;\n",
              "      --hover-bg-color: #E2EBFA;\n",
              "      --hover-fill-color: #174EA6;\n",
              "      --disabled-fill-color: #AAA;\n",
              "      --disabled-bg-color: #DDD;\n",
              "  }\n",
              "\n",
              "  [theme=dark] .colab-df-quickchart {\n",
              "      --bg-color: #3B4455;\n",
              "      --fill-color: #D2E3FC;\n",
              "      --hover-bg-color: #434B5C;\n",
              "      --hover-fill-color: #FFFFFF;\n",
              "      --disabled-bg-color: #3B4455;\n",
              "      --disabled-fill-color: #666;\n",
              "  }\n",
              "\n",
              "  .colab-df-quickchart {\n",
              "    background-color: var(--bg-color);\n",
              "    border: none;\n",
              "    border-radius: 50%;\n",
              "    cursor: pointer;\n",
              "    display: none;\n",
              "    fill: var(--fill-color);\n",
              "    height: 32px;\n",
              "    padding: 0;\n",
              "    width: 32px;\n",
              "  }\n",
              "\n",
              "  .colab-df-quickchart:hover {\n",
              "    background-color: var(--hover-bg-color);\n",
              "    box-shadow: 0 1px 2px rgba(60, 64, 67, 0.3), 0 1px 3px 1px rgba(60, 64, 67, 0.15);\n",
              "    fill: var(--button-hover-fill-color);\n",
              "  }\n",
              "\n",
              "  .colab-df-quickchart-complete:disabled,\n",
              "  .colab-df-quickchart-complete:disabled:hover {\n",
              "    background-color: var(--disabled-bg-color);\n",
              "    fill: var(--disabled-fill-color);\n",
              "    box-shadow: none;\n",
              "  }\n",
              "\n",
              "  .colab-df-spinner {\n",
              "    border: 2px solid var(--fill-color);\n",
              "    border-color: transparent;\n",
              "    border-bottom-color: var(--fill-color);\n",
              "    animation:\n",
              "      spin 1s steps(1) infinite;\n",
              "  }\n",
              "\n",
              "  @keyframes spin {\n",
              "    0% {\n",
              "      border-color: transparent;\n",
              "      border-bottom-color: var(--fill-color);\n",
              "      border-left-color: var(--fill-color);\n",
              "    }\n",
              "    20% {\n",
              "      border-color: transparent;\n",
              "      border-left-color: var(--fill-color);\n",
              "      border-top-color: var(--fill-color);\n",
              "    }\n",
              "    30% {\n",
              "      border-color: transparent;\n",
              "      border-left-color: var(--fill-color);\n",
              "      border-top-color: var(--fill-color);\n",
              "      border-right-color: var(--fill-color);\n",
              "    }\n",
              "    40% {\n",
              "      border-color: transparent;\n",
              "      border-right-color: var(--fill-color);\n",
              "      border-top-color: var(--fill-color);\n",
              "    }\n",
              "    60% {\n",
              "      border-color: transparent;\n",
              "      border-right-color: var(--fill-color);\n",
              "    }\n",
              "    80% {\n",
              "      border-color: transparent;\n",
              "      border-right-color: var(--fill-color);\n",
              "      border-bottom-color: var(--fill-color);\n",
              "    }\n",
              "    90% {\n",
              "      border-color: transparent;\n",
              "      border-bottom-color: var(--fill-color);\n",
              "    }\n",
              "  }\n",
              "</style>\n",
              "\n",
              "  <script>\n",
              "    async function quickchart(key) {\n",
              "      const quickchartButtonEl =\n",
              "        document.querySelector('#' + key + ' button');\n",
              "      quickchartButtonEl.disabled = true;  // To prevent multiple clicks.\n",
              "      quickchartButtonEl.classList.add('colab-df-spinner');\n",
              "      try {\n",
              "        const charts = await google.colab.kernel.invokeFunction(\n",
              "            'suggestCharts', [key], {});\n",
              "      } catch (error) {\n",
              "        console.error('Error during call to suggestCharts:', error);\n",
              "      }\n",
              "      quickchartButtonEl.classList.remove('colab-df-spinner');\n",
              "      quickchartButtonEl.classList.add('colab-df-quickchart-complete');\n",
              "    }\n",
              "    (() => {\n",
              "      let quickchartButtonEl =\n",
              "        document.querySelector('#df-640f7ef9-5fb4-4056-89fd-eda2feed3544 button');\n",
              "      quickchartButtonEl.style.display =\n",
              "        google.colab.kernel.accessAllowed ? 'block' : 'none';\n",
              "    })();\n",
              "  </script>\n",
              "</div>\n",
              "\n",
              "  <div id=\"id_bda97b9c-7845-4fa8-9673-0ddc02c0d3ea\">\n",
              "    <style>\n",
              "      .colab-df-generate {\n",
              "        background-color: #E8F0FE;\n",
              "        border: none;\n",
              "        border-radius: 50%;\n",
              "        cursor: pointer;\n",
              "        display: none;\n",
              "        fill: #1967D2;\n",
              "        height: 32px;\n",
              "        padding: 0 0 0 0;\n",
              "        width: 32px;\n",
              "      }\n",
              "\n",
              "      .colab-df-generate:hover {\n",
              "        background-color: #E2EBFA;\n",
              "        box-shadow: 0px 1px 2px rgba(60, 64, 67, 0.3), 0px 1px 3px 1px rgba(60, 64, 67, 0.15);\n",
              "        fill: #174EA6;\n",
              "      }\n",
              "\n",
              "      [theme=dark] .colab-df-generate {\n",
              "        background-color: #3B4455;\n",
              "        fill: #D2E3FC;\n",
              "      }\n",
              "\n",
              "      [theme=dark] .colab-df-generate:hover {\n",
              "        background-color: #434B5C;\n",
              "        box-shadow: 0px 1px 3px 1px rgba(0, 0, 0, 0.15);\n",
              "        filter: drop-shadow(0px 1px 2px rgba(0, 0, 0, 0.3));\n",
              "        fill: #FFFFFF;\n",
              "      }\n",
              "    </style>\n",
              "    <button class=\"colab-df-generate\" onclick=\"generateWithVariable('FigueAttr')\"\n",
              "            title=\"Generate code using this dataframe.\"\n",
              "            style=\"display:none;\">\n",
              "\n",
              "  <svg xmlns=\"http://www.w3.org/2000/svg\" height=\"24px\"viewBox=\"0 0 24 24\"\n",
              "       width=\"24px\">\n",
              "    <path d=\"M7,19H8.4L18.45,9,17,7.55,7,17.6ZM5,21V16.75L18.45,3.32a2,2,0,0,1,2.83,0l1.4,1.43a1.91,1.91,0,0,1,.58,1.4,1.91,1.91,0,0,1-.58,1.4L9.25,21ZM18.45,9,17,7.55Zm-12,3A5.31,5.31,0,0,0,4.9,8.1,5.31,5.31,0,0,0,1,6.5,5.31,5.31,0,0,0,4.9,4.9,5.31,5.31,0,0,0,6.5,1,5.31,5.31,0,0,0,8.1,4.9,5.31,5.31,0,0,0,12,6.5,5.46,5.46,0,0,0,6.5,12Z\"/>\n",
              "  </svg>\n",
              "    </button>\n",
              "    <script>\n",
              "      (() => {\n",
              "      const buttonEl =\n",
              "        document.querySelector('#id_bda97b9c-7845-4fa8-9673-0ddc02c0d3ea button.colab-df-generate');\n",
              "      buttonEl.style.display =\n",
              "        google.colab.kernel.accessAllowed ? 'block' : 'none';\n",
              "\n",
              "      buttonEl.onclick = () => {\n",
              "        google.colab.notebook.generateWithVariable('FigueAttr');\n",
              "      }\n",
              "      })();\n",
              "    </script>\n",
              "  </div>\n",
              "\n",
              "    </div>\n",
              "  </div>\n"
            ],
            "application/vnd.google.colaboratory.intrinsic+json": {
              "type": "dataframe",
              "variable_name": "FigueAttr",
              "summary": "{\n  \"name\": \"FigueAttr\",\n  \"rows\": 37,\n  \"fields\": [\n    {\n      \"column\": \"node\",\n      \"properties\": {\n        \"dtype\": \"string\",\n        \"num_unique_values\": 37,\n        \"samples\": [\n          \"Piazza\",\n          \"Benavides\",\n          \"Fort\"\n        ],\n        \"semantic_type\": \"\",\n        \"description\": \"\"\n      }\n    },\n    {\n      \"column\": \"Multinacional\",\n      \"properties\": {\n        \"dtype\": \"number\",\n        \"std\": 0,\n        \"min\": 0,\n        \"max\": 1,\n        \"num_unique_values\": 2,\n        \"samples\": [\n          0,\n          1\n        ],\n        \"semantic_type\": \"\",\n        \"description\": \"\"\n      }\n    }\n  ]\n}"
            }
          },
          "metadata": {},
          "execution_count": 3
        }
      ],
      "source": [
        "FigueAttr = pd.read_excel(LinkToData,sheet_name='Attributes')\n",
        "\n",
        "FigueAttr"
      ]
    },
    {
      "cell_type": "markdown",
      "metadata": {
        "id": "yh83XCHY-_GY"
      },
      "source": [
        "Prepare the right (directed or undirected?) network, including  the node attributes, and save (export) the network as a _graphml_ file.\n",
        "\n",
        "__________\n",
        "\n",
        "Go back to the [INTRO](https://dacss-cssmeths.github.io/Networks_intro/)"
      ]
    },
    {
      "cell_type": "code",
      "source": [
        "import networkx as nx\n",
        "\n",
        "graph = nx.from_pandas_adjacency(FigueData) # create graph from FigueData\n",
        "\n",
        "# see edges\n",
        "graph.edges.data()"
      ],
      "metadata": {
        "id": "wXqCRKv33jZA",
        "outputId": "55efbe44-4b42-43e1-ff32-a181aba4dd46",
        "colab": {
          "base_uri": "https://localhost:8080/"
        }
      },
      "execution_count": 4,
      "outputs": [
        {
          "output_type": "execute_result",
          "data": {
            "text/plain": [
              "EdgeDataView([('Romero', 'Graña', {'weight': 1}), ('Romero', 'Miro Quesada', {'weight': 1}), ('Romero', 'Moreyra', {'weight': 1}), ('Romero', 'Fort', {'weight': 1}), ('Romero', 'De La Puente', {'weight': 1}), ('Romero', 'Onrubia', {'weight': 1}), ('Romero', 'Brescia', {'weight': 1}), ('Romero', 'Nicolini', {'weight': 1}), ('Romero', 'Bentin', {'weight': 1}), ('Romero', 'Benavides', {'weight': 1}), ('Romero', 'Bustamante', {'weight': 1}), ('Romero', 'Woodman Pollit', {'weight': 1}), ('Romero', 'Raffo', {'weight': 1}), ('Romero', 'Piazza', {'weight': 1}), ('Romero', 'Berckemeyer', {'weight': 1}), ('Romero', 'Llosa Barber', {'weight': 1}), ('Romero', 'Rizo Patron', {'weight': 1}), ('Romero', 'Montori', {'weight': 1}), ('Graña', 'Miro Quesada', {'weight': 1}), ('Graña', 'Fort', {'weight': 1}), ('Graña', 'De La Puente', {'weight': 1}), ('Graña', 'Wiese', {'weight': 1}), ('Graña', 'Montero', {'weight': 1}), ('Graña', 'Benavides', {'weight': 1}), ('Graña', 'Bustamante', {'weight': 1}), ('Graña', 'Piazza', {'weight': 1}), ('Graña', 'Beoutis Ledesma', {'weight': 1}), ('Graña', 'Michell', {'weight': 1}), ('Miro Quesada', 'Fort', {'weight': 1}), ('Miro Quesada', 'De La Puente', {'weight': 1}), ('Miro Quesada', 'Wiese', {'weight': 1}), ('Miro Quesada', 'Montero', {'weight': 1}), ('Miro Quesada', 'Benavides', {'weight': 1}), ('Miro Quesada', 'Bustamante', {'weight': 1}), ('Miro Quesada', 'Piazza', {'weight': 1}), ('Miro Quesada', 'Beoutis Ledesma', {'weight': 1}), ('Miro Quesada', 'Michell', {'weight': 1}), ('Moreyra', 'Fort', {'weight': 1}), ('Moreyra', 'De La Puente', {'weight': 1}), ('Moreyra', 'Wiese', {'weight': 1}), ('Moreyra', 'Onrubia', {'weight': 1}), ('Moreyra', 'Brescia', {'weight': 1}), ('Moreyra', 'Montero', {'weight': 1}), ('Moreyra', 'Picaso', {'weight': 1}), ('Moreyra', 'Bentin', {'weight': 1}), ('Moreyra', 'Bustamante', {'weight': 1}), ('Moreyra', 'Raffo', {'weight': 1}), ('Moreyra', 'Berckemeyer', {'weight': 1}), ('Moreyra', 'Rizo Patron', {'weight': 1}), ('Moreyra', 'Montori', {'weight': 1}), ('Moreyra', 'Sotomayor', {'weight': 1}), ('Fort', 'De La Puente', {'weight': 1}), ('Fort', 'Onrubia', {'weight': 1}), ('Fort', 'Brescia', {'weight': 1}), ('Fort', 'Nicolini', {'weight': 1}), ('Fort', 'Picaso', {'weight': 1}), ('Fort', 'Bentin', {'weight': 1}), ('Fort', 'Benavides', {'weight': 1}), ('Fort', 'Bustamante', {'weight': 1}), ('Fort', 'Woodman Pollit', {'weight': 1}), ('Fort', 'Raffo', {'weight': 1}), ('Fort', 'Piazza', {'weight': 1}), ('Fort', 'Llosa Barber', {'weight': 1}), ('Fort', 'Beoutis Ledesma', {'weight': 1}), ('Fort', 'Sotomayor', {'weight': 1}), ('Fort', 'Cilloniz', {'weight': 1}), ('De La Puente', 'Wiese', {'weight': 1}), ('De La Puente', 'Montero', {'weight': 1}), ('De La Puente', 'Benavides', {'weight': 1}), ('De La Puente', 'Bustamante', {'weight': 1}), ('De La Puente', 'Piazza', {'weight': 1}), ('De La Puente', 'Berckemeyer', {'weight': 1}), ('De La Puente', 'Beoutis Ledesma', {'weight': 1}), ('De La Puente', 'Rizo Patron', {'weight': 1}), ('De La Puente', 'Sotomayor', {'weight': 1}), ('Wiese', 'Montero', {'weight': 1}), ('Wiese', 'Berckemeyer', {'weight': 1}), ('Wiese', 'Beoutis Ledesma', {'weight': 1}), ('Wiese', 'Rizo Patron', {'weight': 1}), ('Wiese', 'Sotomayor', {'weight': 1}), ('Onrubia', 'Brescia', {'weight': 1}), ('Onrubia', 'Nicolini', {'weight': 1}), ('Onrubia', 'Bentin', {'weight': 1}), ('Onrubia', 'Woodman Pollit', {'weight': 1}), ('Onrubia', 'Raffo', {'weight': 1}), ('Onrubia', 'Berckemeyer', {'weight': 1}), ('Onrubia', 'Llosa Barber', {'weight': 1}), ('Onrubia', 'Montori', {'weight': 1}), ('Brescia', 'Bentin', {'weight': 1}), ('Brescia', 'Raffo', {'weight': 1}), ('Brescia', 'Berckemeyer', {'weight': 1}), ('Brescia', 'Montori', {'weight': 1}), ('Nicolini', 'Bentin', {'weight': 1}), ('Nicolini', 'Woodman Pollit', {'weight': 1}), ('Nicolini', 'Raffo', {'weight': 1}), ('Nicolini', 'Llosa Barber', {'weight': 1}), ('Nicolini', 'Rizo Patron', {'weight': 1}), ('Montero', 'Picaso', {'weight': 1}), ('Montero', 'Bustamante', {'weight': 1}), ('Montero', 'Beoutis Ledesma', {'weight': 1}), ('Montero', 'Ferreyros', {'weight': 1}), ('Picaso', 'Bustamante', {'weight': 1}), ('Picaso', 'Sotomayor', {'weight': 1}), ('Picaso', 'Cilloniz', {'weight': 1}), ('Bentin', 'Woodman Pollit', {'weight': 1}), ('Bentin', 'Raffo', {'weight': 1}), ('Bentin', 'Berckemeyer', {'weight': 1}), ('Bentin', 'Llosa Barber', {'weight': 1}), ('Bentin', 'Montori', {'weight': 1}), ('Bentin', 'Ferreyros', {'weight': 1}), ('Bentin', 'Wong Lu', {'weight': 1}), ('Benavides', 'Bustamante', {'weight': 1}), ('Benavides', 'Piazza', {'weight': 1}), ('Bustamante', 'Piazza', {'weight': 1}), ('Bustamante', 'Montori', {'weight': 1}), ('Bustamante', 'Cilloniz', {'weight': 1}), ('Bustamante', 'Ferreyros', {'weight': 1}), ('Woodman Pollit', 'Raffo', {'weight': 1}), ('Woodman Pollit', 'Berckemeyer', {'weight': 1}), ('Woodman Pollit', 'Llosa Barber', {'weight': 1}), ('Raffo', 'Berckemeyer', {'weight': 1}), ('Raffo', 'Llosa Barber', {'weight': 1}), ('Raffo', 'Montori', {'weight': 1}), ('Piazza', 'Llosa Barber', {'weight': 1}), ('Piazza', 'Beoutis Ledesma', {'weight': 1}), ('Berckemeyer', 'Rizo Patron', {'weight': 1}), ('Berckemeyer', 'Montori', {'weight': 1}), ('Berckemeyer', 'Sotomayor', {'weight': 1}), ('Berckemeyer', 'Llosa Barber', {'weight': 1}), ('Llosa Barber', 'Beoutis Ledesma', {'weight': 1}), ('Rizo Patron', 'Sotomayor', {'weight': 1}), ('Montori', 'Cilloniz', {'weight': 1}), ('Sotomayor', 'Cilloniz', {'weight': 1}), ('Batievsky Spack', 'Matos Escalada', {'weight': 1}), ('Batievsky Spack', 'Galsky', {'weight': 1})])"
            ]
          },
          "metadata": {},
          "execution_count": 4
        }
      ]
    },
    {
      "cell_type": "code",
      "source": [
        "graph.nodes.data()"
      ],
      "metadata": {
        "id": "w9OApQv-8EfQ",
        "outputId": "c980bc48-4279-49e0-8673-11105069c31e",
        "colab": {
          "base_uri": "https://localhost:8080/"
        }
      },
      "execution_count": 5,
      "outputs": [
        {
          "output_type": "execute_result",
          "data": {
            "text/plain": [
              "NodeDataView({'Romero': {}, 'Graña': {}, 'Miro Quesada': {}, 'Moreyra': {}, 'Fort': {}, 'De La Puente': {}, 'Wiese': {}, 'Onrubia': {}, 'Brescia': {}, 'Nicolini': {}, 'Montero': {}, 'Picaso': {}, 'Bentin': {}, 'Benavides': {}, 'Bustamante': {}, 'Woodman Pollit': {}, 'Raffo': {}, 'Piazza': {}, 'Berckemeyer': {}, 'Llosa Barber': {}, 'Beoutis Ledesma': {}, 'Rizo Patron': {}, 'Montori': {}, 'Sotomayor': {}, 'Cilloniz': {}, 'Ferreyros': {}, 'Michell': {}, 'Wong Lu': {}, 'Batievsky Spack': {}, 'Matos Escalada': {}, 'Galsky': {}, 'Lucioni': {}, 'Rodriguez Rodríguez': {}, 'Custer': {}, 'Ikeda': {}, 'Cogorno': {}, 'Arias Davila': {}})"
            ]
          },
          "metadata": {},
          "execution_count": 5
        }
      ]
    },
    {
      "cell_type": "code",
      "source": [
        "# add attributes\n",
        "attribute_dict = FigueAttr.set_index('node').to_dict('index')\n",
        "# attribute_dict = {n:s for n,s in zip(FigueAttr.node,FigueAttr.Multinacional)}"
      ],
      "metadata": {
        "id": "4in-w8ea78h_",
        "outputId": "4d2891ad-d61c-4c74-f079-0ab71d5d3ade",
        "colab": {
          "base_uri": "https://localhost:8080/"
        }
      },
      "execution_count": 13,
      "outputs": [
        {
          "output_type": "execute_result",
          "data": {
            "text/plain": [
              "{'Romero': 1,\n",
              " 'Graña': 1,\n",
              " 'Miro Quesada': 1,\n",
              " 'Moreyra': 1,\n",
              " 'Fort': 1,\n",
              " 'De La Puente': 1,\n",
              " 'Wiese': 1,\n",
              " 'Onrubia': 1,\n",
              " 'Brescia': 1,\n",
              " 'Nicolini': 1,\n",
              " 'Montero': 1,\n",
              " 'Picaso': 1,\n",
              " 'Bentin': 1,\n",
              " 'Benavides': 1,\n",
              " 'Bustamante': 1,\n",
              " 'Woodman Pollit': 1,\n",
              " 'Raffo': 1,\n",
              " 'Piazza': 1,\n",
              " 'Berckemeyer': 0,\n",
              " 'Llosa Barber': 1,\n",
              " 'Beoutis Ledesma': 1,\n",
              " 'Rizo Patron': 1,\n",
              " 'Montori': 1,\n",
              " 'Sotomayor': 1,\n",
              " 'Cilloniz': 1,\n",
              " 'Ferreyros': 0,\n",
              " 'Michell': 0,\n",
              " 'Wong Lu': 1,\n",
              " 'Batievsky Spack': 1,\n",
              " 'Matos Escalada': 1,\n",
              " 'Galsky': 0,\n",
              " 'Lucioni': 0,\n",
              " 'Rodriguez Rodríguez': 1,\n",
              " 'Custer': 0,\n",
              " 'Ikeda': 0,\n",
              " 'Cogorno': 0,\n",
              " 'Arias Davila': 1}"
            ]
          },
          "metadata": {},
          "execution_count": 13
        }
      ]
    },
    {
      "cell_type": "code",
      "source": [
        "# assigning color condtionally to sex\n",
        "# write 'red' as value for  'node', if the 'sex' of 'node' is 'female', else, write 'blue'\n",
        "# do this for every pair 'node','sex' in 'nx.get_node_attributes(dG, \"sex\").items()'\n",
        "{node:'red' if Multinacional==0 else 'green' for node, Multinacional in nx.get_node_attributes(graph, \"Multinacional\").items()}"
      ],
      "metadata": {
        "id": "zqDlrkj599TX",
        "outputId": "fa72828f-f98f-4e55-8746-ec3ced12ad03",
        "colab": {
          "base_uri": "https://localhost:8080/"
        }
      },
      "execution_count": 14,
      "outputs": [
        {
          "output_type": "execute_result",
          "data": {
            "text/plain": [
              "{'Romero': 'green',\n",
              " 'Graña': 'green',\n",
              " 'Miro Quesada': 'green',\n",
              " 'Moreyra': 'green',\n",
              " 'Fort': 'green',\n",
              " 'De La Puente': 'green',\n",
              " 'Wiese': 'green',\n",
              " 'Onrubia': 'green',\n",
              " 'Brescia': 'green',\n",
              " 'Nicolini': 'green',\n",
              " 'Montero': 'green',\n",
              " 'Picaso': 'green',\n",
              " 'Bentin': 'green',\n",
              " 'Benavides': 'green',\n",
              " 'Bustamante': 'green',\n",
              " 'Woodman Pollit': 'green',\n",
              " 'Raffo': 'green',\n",
              " 'Piazza': 'green',\n",
              " 'Berckemeyer': 'red',\n",
              " 'Llosa Barber': 'green',\n",
              " 'Beoutis Ledesma': 'green',\n",
              " 'Rizo Patron': 'green',\n",
              " 'Montori': 'green',\n",
              " 'Sotomayor': 'green',\n",
              " 'Cilloniz': 'green',\n",
              " 'Ferreyros': 'red',\n",
              " 'Michell': 'red',\n",
              " 'Wong Lu': 'green',\n",
              " 'Batievsky Spack': 'green',\n",
              " 'Matos Escalada': 'green',\n",
              " 'Galsky': 'red',\n",
              " 'Lucioni': 'red',\n",
              " 'Rodriguez Rodríguez': 'green',\n",
              " 'Custer': 'red',\n",
              " 'Ikeda': 'red',\n",
              " 'Cogorno': 'red',\n",
              " 'Arias Davila': 'green'}"
            ]
          },
          "metadata": {},
          "execution_count": 14
        }
      ]
    },
    {
      "cell_type": "code",
      "source": [
        "# assign colour to node\n",
        "# dict saved a 'colorDict'\n",
        "colorNodes = {node:'red' if Multinacional==0 else 'green' for node, Multinacional in nx.get_node_attributes(graph, \"Multinacional\").items()}\n",
        "nx.set_node_attributes(graph, colorNodes, \"color\")\n",
        "\n",
        "# nx.set_node_attributes(graph, attribute_dict , \"Multinacional\")\n",
        "# nx.set_node_attributes(graph, attribute_dict)\n",
        "\n",
        "# the attribute is now in the node data:\n",
        "graph.nodes.data()\n",
        "\n",
        "# seeing attributes\n",
        "nx.get_node_attributes(graph, \"Multinacional\")"
      ],
      "metadata": {
        "id": "HQuy2w6-_FGW",
        "outputId": "105cd872-d0c5-427a-9613-d878dc3a3f00",
        "colab": {
          "base_uri": "https://localhost:8080/"
        }
      },
      "execution_count": 15,
      "outputs": [
        {
          "output_type": "execute_result",
          "data": {
            "text/plain": [
              "{'Romero': 1,\n",
              " 'Graña': 1,\n",
              " 'Miro Quesada': 1,\n",
              " 'Moreyra': 1,\n",
              " 'Fort': 1,\n",
              " 'De La Puente': 1,\n",
              " 'Wiese': 1,\n",
              " 'Onrubia': 1,\n",
              " 'Brescia': 1,\n",
              " 'Nicolini': 1,\n",
              " 'Montero': 1,\n",
              " 'Picaso': 1,\n",
              " 'Bentin': 1,\n",
              " 'Benavides': 1,\n",
              " 'Bustamante': 1,\n",
              " 'Woodman Pollit': 1,\n",
              " 'Raffo': 1,\n",
              " 'Piazza': 1,\n",
              " 'Berckemeyer': 0,\n",
              " 'Llosa Barber': 1,\n",
              " 'Beoutis Ledesma': 1,\n",
              " 'Rizo Patron': 1,\n",
              " 'Montori': 1,\n",
              " 'Sotomayor': 1,\n",
              " 'Cilloniz': 1,\n",
              " 'Ferreyros': 0,\n",
              " 'Michell': 0,\n",
              " 'Wong Lu': 1,\n",
              " 'Batievsky Spack': 1,\n",
              " 'Matos Escalada': 1,\n",
              " 'Galsky': 0,\n",
              " 'Lucioni': 0,\n",
              " 'Rodriguez Rodríguez': 1,\n",
              " 'Custer': 0,\n",
              " 'Ikeda': 0,\n",
              " 'Cogorno': 0,\n",
              " 'Arias Davila': 1}"
            ]
          },
          "metadata": {},
          "execution_count": 15
        }
      ]
    },
    {
      "cell_type": "code",
      "source": [
        "\n",
        "# drawing graph\n",
        "nx.draw(graph,\n",
        "        with_labels=True,\n",
        "        # nx.set_node_attributes(graph, attribute_dict))\n",
        "        node_color=nx.get_node_attributes(graph, 'color').values())"
      ],
      "metadata": {
        "id": "Knam2M-50MBf",
        "outputId": "581764e8-6413-4318-a8f9-04bb2040c478",
        "colab": {
          "base_uri": "https://localhost:8080/",
          "height": 516
        }
      },
      "execution_count": 17,
      "outputs": [
        {
          "output_type": "display_data",
          "data": {
            "text/plain": [
              "<Figure size 640x480 with 1 Axes>"
            ],
            "image/png": "[encoded data removed]"
          },
          "metadata": {}
        }
      ]
    }
  ],
  "metadata": {
    "hide_input": false,
    "kernelspec": {
      "display_name": "Python 3 (ipykernel)",
      "language": "python",
      "name": "python3"
    },
    "language_info": {
      "codemirror_mode": {
        "name": "ipython",
        "version": 3
      },
      "file_extension": ".py",
      "mimetype": "text/x-python",
      "name": "python",
      "nbconvert_exporter": "python",
      "pygments_lexer": "ipython3",
      "version": "3.10.16"
    },
    "colab": {
      "provenance": []
    }
  },
  "nbformat": 4,
  "nbformat_minor": 0
}